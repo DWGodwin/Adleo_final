{
 "cells": [
  {
   "cell_type": "code",
   "execution_count": null,
   "id": "5acd27bb",
   "metadata": {},
   "outputs": [],
   "source": [
    "import pandas as pd\n",
    "import re\n",
    "\n",
    "# define regex pattern to extract relevant data\n",
    "pattern = r'([\\d-]+\\s[\\d:]+).*epoch\\s+(\\d+),\\s+g_loss:\\s+([\\d\\.]+),\\s+d_loss:\\s+([\\d\\.]+)'\n",
    "\n",
    "# read in the log file\n",
    "with open('log.txt', 'r') as f:\n",
    "    log = f.read()\n",
    "\n",
    "# extract relevant data using regex pattern\n",
    "data = re.findall(pattern, log)\n",
    "\n",
    "# create pandas dataframe from extracted data\n",
    "df = pd.DataFrame(data, columns=['datetime', 'epoch', 'g_loss', 'd_loss'])\n",
    "df['datetime'] = pd.to_datetime(df['datetime'])\n",
    "df[['epoch', 'g_loss', 'd_loss']] = df[['epoch', 'g_loss', 'd_loss']].astype(float)\n",
    "\n",
    "# display dataframe\n",
    "print(df.head())"
   ]
  }
 ],
 "metadata": {
  "kernelspec": {
   "display_name": "Python 3 (ipykernel)",
   "language": "python",
   "name": "python3"
  },
  "language_info": {
   "codemirror_mode": {
    "name": "ipython",
    "version": 3
   },
   "file_extension": ".py",
   "mimetype": "text/x-python",
   "name": "python",
   "nbconvert_exporter": "python",
   "pygments_lexer": "ipython3",
   "version": "3.9.12"
  }
 },
 "nbformat": 4,
 "nbformat_minor": 5
}
